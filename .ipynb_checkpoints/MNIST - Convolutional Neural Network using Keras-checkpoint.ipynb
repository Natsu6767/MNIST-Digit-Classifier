{
 "cells": [
  {
   "cell_type": "code",
   "execution_count": 1,
   "metadata": {},
   "outputs": [
    {
     "name": "stderr",
     "output_type": "stream",
     "text": [
      "Using TensorFlow backend.\n"
     ]
    }
   ],
   "source": [
    "import keras\n",
    "import matplotlib.pyplot as plt\n",
    "from keras.datasets import mnist\n",
    "from keras.models import Sequential\n",
    "from keras.layers import Dense, Dropout, Flatten\n",
    "from keras.layers import Conv2D, MaxPooling2D\n",
    "from keras.optimizers import adam"
   ]
  },
  {
   "cell_type": "code",
   "execution_count": 2,
   "metadata": {},
   "outputs": [],
   "source": [
    "batch_size = 128\n",
    "num_classes = 10\n",
    "epochs = 20"
   ]
  },
  {
   "cell_type": "code",
   "execution_count": 3,
   "metadata": {},
   "outputs": [],
   "source": [
    "# input image dimensions\n",
    "img_rows, img_cols = 28, 28"
   ]
  },
  {
   "cell_type": "code",
   "execution_count": 4,
   "metadata": {},
   "outputs": [],
   "source": [
    "# the data, split between train and test sets\n",
    "(X_train, y_train), (X_test, y_test) = mnist.load_data()"
   ]
  },
  {
   "cell_type": "code",
   "execution_count": 5,
   "metadata": {},
   "outputs": [],
   "source": [
    "# reshape to be [samples][pixels][width][height]\n",
    "X_train = X_train.reshape(X_train.shape[0], img_cols, img_rows, 1).astype('float32')\n",
    "X_test = X_test.reshape(X_test.shape[0], img_cols, img_rows, 1).astype('float32')\n",
    "input_shape=(img_cols, img_rows, 1)"
   ]
  },
  {
   "cell_type": "code",
   "execution_count": 6,
   "metadata": {},
   "outputs": [],
   "source": [
    "# normalize inputs from 0-255 to 0-1\n",
    "X_train = X_train / 255\n",
    "X_test = X_test / 255"
   ]
  },
  {
   "cell_type": "code",
   "execution_count": 7,
   "metadata": {},
   "outputs": [
    {
     "name": "stdout",
     "output_type": "stream",
     "text": [
      "X_train shape: (60000, 28, 28, 1)\n",
      "60000 train samples\n",
      "10000 test samples\n"
     ]
    }
   ],
   "source": [
    "print('X_train shape:', X_train.shape)\n",
    "print(X_train.shape[0], 'train samples')\n",
    "print(X_test.shape[0], 'test samples')"
   ]
  },
  {
   "cell_type": "code",
   "execution_count": 8,
   "metadata": {},
   "outputs": [],
   "source": [
    "# convert class vectors to binary class matrices\n",
    "y_train = keras.utils.to_categorical(y_train, num_classes)\n",
    "y_test = keras.utils.to_categorical(y_test, num_classes)"
   ]
  },
  {
   "cell_type": "code",
   "execution_count": 9,
   "metadata": {},
   "outputs": [],
   "source": [
    "# create model\n",
    "model = Sequential()\n",
    "model.add(Conv2D(32, kernel_size=(3, 3),\n",
    "                 activation='relu',\n",
    "                 input_shape=input_shape))\n",
    "model.add(Conv2D(64, (3, 3), activation='relu'))\n",
    "model.add(MaxPooling2D(pool_size=(2, 2)))\n",
    "model.add(Dropout(0.25))\n",
    "model.add(Flatten())\n",
    "model.add(Dense(128, activation='relu'))\n",
    "model.add(Dropout(0.5))\n",
    "model.add(Dense(num_classes, activation='softmax'))\n",
    "\n",
    "# Compile model\n",
    "model.compile(loss='categorical_crossentropy', optimizer='adam', metrics=['accuracy'])"
   ]
  },
  {
   "cell_type": "code",
   "execution_count": 10,
   "metadata": {},
   "outputs": [
    {
     "name": "stdout",
     "output_type": "stream",
     "text": [
      "Train on 54000 samples, validate on 6000 samples\n",
      "Epoch 1/20\n",
      "54000/54000 [==============================] - 7s 130us/step - loss: 0.2585 - acc: 0.9206 - val_loss: 0.0548 - val_acc: 0.9855\n",
      "Epoch 2/20\n",
      "54000/54000 [==============================] - 6s 108us/step - loss: 0.0862 - acc: 0.9741 - val_loss: 0.0448 - val_acc: 0.9883\n",
      "Epoch 3/20\n",
      "54000/54000 [==============================] - 6s 108us/step - loss: 0.0665 - acc: 0.9792 - val_loss: 0.0370 - val_acc: 0.9893\n",
      "Epoch 4/20\n",
      "54000/54000 [==============================] - 6s 108us/step - loss: 0.0509 - acc: 0.9844 - val_loss: 0.0332 - val_acc: 0.9910\n",
      "Epoch 5/20\n",
      "54000/54000 [==============================] - 6s 107us/step - loss: 0.0446 - acc: 0.9859 - val_loss: 0.0346 - val_acc: 0.9905\n",
      "Epoch 6/20\n",
      "54000/54000 [==============================] - 6s 107us/step - loss: 0.0379 - acc: 0.9882 - val_loss: 0.0333 - val_acc: 0.9912\n",
      "Epoch 7/20\n",
      "54000/54000 [==============================] - 6s 108us/step - loss: 0.0331 - acc: 0.9886 - val_loss: 0.0257 - val_acc: 0.9927\n",
      "Epoch 8/20\n",
      "54000/54000 [==============================] - 6s 107us/step - loss: 0.0301 - acc: 0.9901 - val_loss: 0.0299 - val_acc: 0.9922\n",
      "Epoch 9/20\n",
      "54000/54000 [==============================] - 6s 107us/step - loss: 0.0271 - acc: 0.9912 - val_loss: 0.0321 - val_acc: 0.9920\n",
      "Epoch 10/20\n",
      "54000/54000 [==============================] - 6s 107us/step - loss: 0.0265 - acc: 0.9913 - val_loss: 0.0354 - val_acc: 0.9917\n",
      "Epoch 11/20\n",
      "54000/54000 [==============================] - 6s 106us/step - loss: 0.0213 - acc: 0.9929 - val_loss: 0.0438 - val_acc: 0.9913\n",
      "Epoch 12/20\n",
      "54000/54000 [==============================] - 6s 107us/step - loss: 0.0205 - acc: 0.9931 - val_loss: 0.0322 - val_acc: 0.9922\n",
      "Epoch 13/20\n",
      "54000/54000 [==============================] - 6s 106us/step - loss: 0.0209 - acc: 0.9930 - val_loss: 0.0356 - val_acc: 0.9912\n",
      "Epoch 14/20\n",
      "54000/54000 [==============================] - 6s 106us/step - loss: 0.0185 - acc: 0.9936 - val_loss: 0.0388 - val_acc: 0.9918\n",
      "Epoch 15/20\n",
      "54000/54000 [==============================] - 6s 107us/step - loss: 0.0174 - acc: 0.9944 - val_loss: 0.0316 - val_acc: 0.9928\n",
      "Epoch 16/20\n",
      "54000/54000 [==============================] - 6s 106us/step - loss: 0.0142 - acc: 0.9952 - val_loss: 0.0354 - val_acc: 0.9915\n",
      "Epoch 17/20\n",
      "54000/54000 [==============================] - 6s 107us/step - loss: 0.0163 - acc: 0.9943 - val_loss: 0.0370 - val_acc: 0.9922\n",
      "Epoch 18/20\n",
      "54000/54000 [==============================] - 6s 107us/step - loss: 0.0136 - acc: 0.9952 - val_loss: 0.0367 - val_acc: 0.9918\n",
      "Epoch 19/20\n",
      "54000/54000 [==============================] - 6s 107us/step - loss: 0.0143 - acc: 0.9951 - val_loss: 0.0372 - val_acc: 0.9922\n",
      "Epoch 20/20\n",
      "54000/54000 [==============================] - 6s 109us/step - loss: 0.0140 - acc: 0.9954 - val_loss: 0.0377 - val_acc: 0.9928\n"
     ]
    }
   ],
   "source": [
    "# Training the neural network\n",
    "history = model.fit(X_train, y_train,\n",
    "                    batch_size=batch_size,\n",
    "                    epochs=epochs,\n",
    "                    verbose=1,\n",
    "                    validation_split=0.1)"
   ]
  },
  {
   "cell_type": "code",
   "execution_count": 11,
   "metadata": {},
   "outputs": [
    {
     "data": {
      "image/png": "[encoded data removed]",
      "text/plain": [
       "<matplotlib.figure.Figure at 0x7f9022b6c4e0>"
      ]
     },
     "metadata": {},
     "output_type": "display_data"
    }
   ],
   "source": [
    "# Visualizing the training loss curves\n",
    "plt.plot(history.history['loss'], label = \"training set\")\n",
    "plt.plot(history.history['val_loss'], label = \"validation set\")\n",
    "plt.legend()\n",
    "plt.show()"
   ]
  },
  {
   "cell_type": "code",
   "execution_count": 12,
   "metadata": {},
   "outputs": [
    {
     "name": "stdout",
     "output_type": "stream",
     "text": [
      "Test loss: 0.0329180591718954\n",
      "Test accuracy: 0.9915\n"
     ]
    }
   ],
   "source": [
    "# Evaluating on the Test Set\n",
    "score = model.evaluate(X_test, y_test, verbose=0)\n",
    "print('Test loss:', score[0])\n",
    "print('Test accuracy:', score[1])"
   ]
  },
  {
   "cell_type": "code",
   "execution_count": null,
   "metadata": {},
   "outputs": [],
   "source": []
  }
 ],
 "metadata": {
  "kernelspec": {
   "display_name": "Python 3",
   "language": "python",
   "name": "python3"
  },
  "language_info": {
   "codemirror_mode": {
    "name": "ipython",
    "version": 3
   },
   "file_extension": ".py",
   "mimetype": "text/x-python",
   "name": "python",
   "nbconvert_exporter": "python",
   "pygments_lexer": "ipython3",
   "version": "3.5.2"
  }
 },
 "nbformat": 4,
 "nbformat_minor": 2
}
