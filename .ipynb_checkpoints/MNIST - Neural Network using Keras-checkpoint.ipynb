{
 "cells": [
  {
   "cell_type": "code",
   "execution_count": 1,
   "metadata": {},
   "outputs": [
    {
     "name": "stderr",
     "output_type": "stream",
     "text": [
      "Using TensorFlow backend.\n"
     ]
    }
   ],
   "source": [
    "import keras\n",
    "import matplotlib.pyplot as plt\n",
    "from keras.datasets import mnist\n",
    "from keras.models import Sequential\n",
    "from keras.layers import Dense, Dropout\n",
    "from keras.optimizers import adam"
   ]
  },
  {
   "cell_type": "code",
   "execution_count": 2,
   "metadata": {},
   "outputs": [],
   "source": [
    "batch_size = 128\n",
    "num_classes = 10\n",
    "epochs = 20"
   ]
  },
  {
   "cell_type": "code",
   "execution_count": 3,
   "metadata": {},
   "outputs": [],
   "source": [
    "# Loading the mnist data\n",
    "(X_train, y_train), (X_test, y_test) = mnist.load_data()"
   ]
  },
  {
   "cell_type": "code",
   "execution_count": 4,
   "metadata": {},
   "outputs": [
    {
     "data": {
      "image/png": "[encoded data removed]",
      "text/plain": [
       "<matplotlib.figure.Figure at 0x7fb9d3a4f3c8>"
      ]
     },
     "metadata": {},
     "output_type": "display_data"
    }
   ],
   "source": [
    "# plot 4 images as gray scale\n",
    "plt.subplot(221)\n",
    "plt.imshow(X_train[0], cmap=plt.get_cmap('gray'))\n",
    "plt.subplot(222)\n",
    "plt.imshow(X_train[4], cmap=plt.get_cmap('gray'))\n",
    "plt.subplot(223)\n",
    "plt.imshow(X_train[6], cmap=plt.get_cmap('gray'))\n",
    "plt.subplot(224)\n",
    "plt.imshow(X_train[36], cmap=plt.get_cmap('gray'))\n",
    "# show the plot\n",
    "plt.show()"
   ]
  },
  {
   "cell_type": "code",
   "execution_count": 5,
   "metadata": {},
   "outputs": [],
   "source": [
    "# Reshaping the 28x28x3 data image to 784x1\n",
    "num_pixels = X_train.shape[1] * X_train.shape[2]\n",
    "X_train = X_train.reshape(X_train.shape[0], num_pixels).astype('float32')\n",
    "X_test = X_test.reshape(X_test.shape[0], num_pixels).astype('float32')"
   ]
  },
  {
   "cell_type": "code",
   "execution_count": 6,
   "metadata": {},
   "outputs": [],
   "source": [
    "# Normalizing\n",
    "X_train = X_train / 255\n",
    "X_test = X_test / 255"
   ]
  },
  {
   "cell_type": "code",
   "execution_count": 7,
   "metadata": {},
   "outputs": [
    {
     "name": "stdout",
     "output_type": "stream",
     "text": [
      "60000 train samples\n",
      "10000 test samples\n"
     ]
    }
   ],
   "source": [
    "print(X_train.shape[0], 'train samples')\n",
    "print(X_test.shape[0], 'test samples')"
   ]
  },
  {
   "cell_type": "code",
   "execution_count": 8,
   "metadata": {},
   "outputs": [],
   "source": [
    "# Converting the labels to one-hot encoding\n",
    "y_train = keras.utils.to_categorical(y_train, num_classes)\n",
    "y_test = keras.utils.to_categorical(y_test, num_classes)"
   ]
  },
  {
   "cell_type": "code",
   "execution_count": 9,
   "metadata": {},
   "outputs": [],
   "source": [
    "# Creating the neural network model\n",
    "model = Sequential()\n",
    "model.add(Dense(512, activation='relu', input_shape=(num_pixels,)))\n",
    "model.add(Dropout(0.2))\n",
    "model.add(Dense(512, activation='relu'))\n",
    "model.add(Dropout(0.2))\n",
    "model.add(Dense(num_classes, activation='softmax'))"
   ]
  },
  {
   "cell_type": "code",
   "execution_count": 10,
   "metadata": {},
   "outputs": [
    {
     "name": "stdout",
     "output_type": "stream",
     "text": [
      "_________________________________________________________________\n",
      "Layer (type)                 Output Shape              Param #   \n",
      "=================================================================\n",
      "dense_1 (Dense)              (None, 512)               401920    \n",
      "_________________________________________________________________\n",
      "dropout_1 (Dropout)          (None, 512)               0         \n",
      "_________________________________________________________________\n",
      "dense_2 (Dense)              (None, 512)               262656    \n",
      "_________________________________________________________________\n",
      "dropout_2 (Dropout)          (None, 512)               0         \n",
      "_________________________________________________________________\n",
      "dense_3 (Dense)              (None, 10)                5130      \n",
      "=================================================================\n",
      "Total params: 669,706\n",
      "Trainable params: 669,706\n",
      "Non-trainable params: 0\n",
      "_________________________________________________________________\n"
     ]
    }
   ],
   "source": [
    "model.summary()"
   ]
  },
  {
   "cell_type": "code",
   "execution_count": 11,
   "metadata": {},
   "outputs": [],
   "source": [
    "# Compiling the model\n",
    "model.compile(loss='categorical_crossentropy',\n",
    "              optimizer=adam(),\n",
    "              metrics=['accuracy'])"
   ]
  },
  {
   "cell_type": "code",
   "execution_count": 12,
   "metadata": {},
   "outputs": [
    {
     "name": "stdout",
     "output_type": "stream",
     "text": [
      "Train on 54000 samples, validate on 6000 samples\n",
      "Epoch 1/20\n",
      "54000/54000 [==============================] - 2s 36us/step - loss: 0.2692 - acc: 0.9189 - val_loss: 0.1043 - val_acc: 0.9693\n",
      "Epoch 2/20\n",
      "54000/54000 [==============================] - 1s 24us/step - loss: 0.1069 - acc: 0.9674 - val_loss: 0.0816 - val_acc: 0.9758\n",
      "Epoch 3/20\n",
      "54000/54000 [==============================] - 1s 25us/step - loss: 0.0761 - acc: 0.9755 - val_loss: 0.0768 - val_acc: 0.9778\n",
      "Epoch 4/20\n",
      "54000/54000 [==============================] - 1s 25us/step - loss: 0.0584 - acc: 0.9813 - val_loss: 0.0671 - val_acc: 0.9802\n",
      "Epoch 5/20\n",
      "54000/54000 [==============================] - 1s 25us/step - loss: 0.0467 - acc: 0.9850 - val_loss: 0.0916 - val_acc: 0.9750\n",
      "Epoch 6/20\n",
      "54000/54000 [==============================] - 1s 25us/step - loss: 0.0416 - acc: 0.9864 - val_loss: 0.0617 - val_acc: 0.9828\n",
      "Epoch 7/20\n",
      "54000/54000 [==============================] - 1s 25us/step - loss: 0.0320 - acc: 0.9895 - val_loss: 0.0704 - val_acc: 0.9823\n",
      "Epoch 8/20\n",
      "54000/54000 [==============================] - 1s 25us/step - loss: 0.0318 - acc: 0.9893 - val_loss: 0.0743 - val_acc: 0.9800\n",
      "Epoch 9/20\n",
      "54000/54000 [==============================] - 1s 25us/step - loss: 0.0283 - acc: 0.9903 - val_loss: 0.0625 - val_acc: 0.9845\n",
      "Epoch 10/20\n",
      "54000/54000 [==============================] - 1s 25us/step - loss: 0.0252 - acc: 0.9917 - val_loss: 0.0638 - val_acc: 0.9842\n",
      "Epoch 11/20\n",
      "54000/54000 [==============================] - 1s 25us/step - loss: 0.0223 - acc: 0.9926 - val_loss: 0.0760 - val_acc: 0.9818\n",
      "Epoch 12/20\n",
      "54000/54000 [==============================] - 1s 25us/step - loss: 0.0230 - acc: 0.9920 - val_loss: 0.0829 - val_acc: 0.9813\n",
      "Epoch 13/20\n",
      "54000/54000 [==============================] - 1s 25us/step - loss: 0.0214 - acc: 0.9927 - val_loss: 0.0787 - val_acc: 0.9813\n",
      "Epoch 14/20\n",
      "54000/54000 [==============================] - 1s 26us/step - loss: 0.0217 - acc: 0.9930 - val_loss: 0.0693 - val_acc: 0.9840\n",
      "Epoch 15/20\n",
      "54000/54000 [==============================] - 1s 26us/step - loss: 0.0181 - acc: 0.9941 - val_loss: 0.0793 - val_acc: 0.9840\n",
      "Epoch 16/20\n",
      "54000/54000 [==============================] - 1s 25us/step - loss: 0.0201 - acc: 0.9935 - val_loss: 0.0755 - val_acc: 0.9845\n",
      "Epoch 17/20\n",
      "54000/54000 [==============================] - 1s 25us/step - loss: 0.0148 - acc: 0.9953 - val_loss: 0.0754 - val_acc: 0.9843\n",
      "Epoch 18/20\n",
      "54000/54000 [==============================] - 1s 25us/step - loss: 0.0174 - acc: 0.9943 - val_loss: 0.0780 - val_acc: 0.9837\n",
      "Epoch 19/20\n",
      "54000/54000 [==============================] - 1s 25us/step - loss: 0.0177 - acc: 0.9940 - val_loss: 0.0831 - val_acc: 0.9838\n",
      "Epoch 20/20\n",
      "54000/54000 [==============================] - 1s 25us/step - loss: 0.0137 - acc: 0.9954 - val_loss: 0.0822 - val_acc: 0.9845\n"
     ]
    }
   ],
   "source": [
    "# Training the neural network\n",
    "history = model.fit(X_train, y_train,\n",
    "                    batch_size=batch_size,\n",
    "                    epochs=epochs,\n",
    "                    verbose=1,\n",
    "                    validation_split=0.1)"
   ]
  },
  {
   "cell_type": "code",
   "execution_count": 13,
   "metadata": {},
   "outputs": [
    {
     "data": {
      "image/png": "[encoded data removed]",
      "text/plain": [
       "<matplotlib.figure.Figure at 0x7fb9d335c0b8>"
      ]
     },
     "metadata": {},
     "output_type": "display_data"
    }
   ],
   "source": [
    "# Visualizing the training loss curves\n",
    "plt.plot(history.history['loss'], label = \"training set\")\n",
    "plt.plot(history.history['val_loss'], label = \"validation set\")\n",
    "plt.legend()\n",
    "plt.show()"
   ]
  },
  {
   "cell_type": "code",
   "execution_count": 14,
   "metadata": {},
   "outputs": [
    {
     "name": "stdout",
     "output_type": "stream",
     "text": [
      "Test loss: 0.07163949103851601\n",
      "Test accuracy: 0.9851\n"
     ]
    }
   ],
   "source": [
    "# Evaluating on the Test Set\n",
    "score = model.evaluate(X_test, y_test, verbose=0)\n",
    "print('Test loss:', score[0])\n",
    "print('Test accuracy:', score[1])"
   ]
  },
  {
   "cell_type": "code",
   "execution_count": null,
   "metadata": {},
   "outputs": [],
   "source": []
  }
 ],
 "metadata": {
  "kernelspec": {
   "display_name": "Python 3",
   "language": "python",
   "name": "python3"
  },
  "language_info": {
   "codemirror_mode": {
    "name": "ipython",
    "version": 3
   },
   "file_extension": ".py",
   "mimetype": "text/x-python",
   "name": "python",
   "nbconvert_exporter": "python",
   "pygments_lexer": "ipython3",
   "version": "3.5.2"
  }
 },
 "nbformat": 4,
 "nbformat_minor": 2
}
